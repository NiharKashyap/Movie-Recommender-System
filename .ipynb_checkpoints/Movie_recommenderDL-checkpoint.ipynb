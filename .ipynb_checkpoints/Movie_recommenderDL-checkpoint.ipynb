{
 "cells": [
  {
   "cell_type": "code",
   "execution_count": 17,
   "metadata": {},
   "outputs": [],
   "source": [
    "import pandas as pd\n",
    "import tensorflow as tf"
   ]
  },
  {
   "cell_type": "code",
   "execution_count": 5,
   "metadata": {},
   "outputs": [],
   "source": [
    "ratings = pd.read_csv('C://Projects//Movie Recommender System//Datasets//ratings.csv')"
   ]
  },
  {
   "cell_type": "code",
   "execution_count": 14,
   "metadata": {},
   "outputs": [
    {
     "name": "stderr",
     "output_type": "stream",
     "text": [
      "C:\\Users\\Nihar\\Anaconda3\\lib\\site-packages\\IPython\\core\\interactiveshell.py:3147: DtypeWarning: Columns (10) have mixed types.Specify dtype option on import or set low_memory=False.\n",
      "  interactivity=interactivity, compiler=compiler, result=result)\n"
     ]
    }
   ],
   "source": [
    "movies = pd.read_csv('C://Projects//Movie Recommender System//Datasets//movies_metadata.csv')"
   ]
  },
  {
   "cell_type": "code",
   "execution_count": 6,
   "metadata": {},
   "outputs": [
    {
     "name": "stdout",
     "output_type": "stream",
     "text": [
      "<class 'pandas.core.frame.DataFrame'>\n",
      "RangeIndex: 26024289 entries, 0 to 26024288\n",
      "Data columns (total 4 columns):\n",
      " #   Column     Dtype  \n",
      "---  ------     -----  \n",
      " 0   userId     int64  \n",
      " 1   movieId    int64  \n",
      " 2   rating     float64\n",
      " 3   timestamp  int64  \n",
      "dtypes: float64(1), int64(3)\n",
      "memory usage: 794.2 MB\n"
     ]
    }
   ],
   "source": [
    "ratings.info()"
   ]
  },
  {
   "cell_type": "code",
   "execution_count": 8,
   "metadata": {},
   "outputs": [
    {
     "data": {
      "text/plain": [
       "userId       0\n",
       "movieId      0\n",
       "rating       0\n",
       "timestamp    0\n",
       "dtype: int64"
      ]
     },
     "execution_count": 8,
     "metadata": {},
     "output_type": "execute_result"
    }
   ],
   "source": [
    "ratings.isna().sum()"
   ]
  },
  {
   "cell_type": "code",
   "execution_count": 9,
   "metadata": {},
   "outputs": [],
   "source": [
    "from sklearn.model_selection import train_test_split"
   ]
  },
  {
   "cell_type": "code",
   "execution_count": 11,
   "metadata": {},
   "outputs": [],
   "source": [
    "train_X,test_X = train_test_split(ratings, test_size=0.2)"
   ]
  },
  {
   "cell_type": "code",
   "execution_count": 12,
   "metadata": {},
   "outputs": [
    {
     "data": {
      "text/html": [
       "<div>\n",
       "<style scoped>\n",
       "    .dataframe tbody tr th:only-of-type {\n",
       "        vertical-align: middle;\n",
       "    }\n",
       "\n",
       "    .dataframe tbody tr th {\n",
       "        vertical-align: top;\n",
       "    }\n",
       "\n",
       "    .dataframe thead th {\n",
       "        text-align: right;\n",
       "    }\n",
       "</style>\n",
       "<table border=\"1\" class=\"dataframe\">\n",
       "  <thead>\n",
       "    <tr style=\"text-align: right;\">\n",
       "      <th></th>\n",
       "      <th>userId</th>\n",
       "      <th>movieId</th>\n",
       "      <th>rating</th>\n",
       "      <th>timestamp</th>\n",
       "    </tr>\n",
       "  </thead>\n",
       "  <tbody>\n",
       "    <tr>\n",
       "      <th>7159834</th>\n",
       "      <td>73875</td>\n",
       "      <td>1593</td>\n",
       "      <td>3.0</td>\n",
       "      <td>958210061</td>\n",
       "    </tr>\n",
       "    <tr>\n",
       "      <th>12421332</th>\n",
       "      <td>128838</td>\n",
       "      <td>543</td>\n",
       "      <td>1.5</td>\n",
       "      <td>1144673944</td>\n",
       "    </tr>\n",
       "    <tr>\n",
       "      <th>7493405</th>\n",
       "      <td>77327</td>\n",
       "      <td>45672</td>\n",
       "      <td>3.0</td>\n",
       "      <td>1463697584</td>\n",
       "    </tr>\n",
       "    <tr>\n",
       "      <th>8662342</th>\n",
       "      <td>89263</td>\n",
       "      <td>6695</td>\n",
       "      <td>2.0</td>\n",
       "      <td>1229807065</td>\n",
       "    </tr>\n",
       "    <tr>\n",
       "      <th>4405632</th>\n",
       "      <td>45521</td>\n",
       "      <td>3030</td>\n",
       "      <td>5.0</td>\n",
       "      <td>1258901884</td>\n",
       "    </tr>\n",
       "    <tr>\n",
       "      <th>...</th>\n",
       "      <td>...</td>\n",
       "      <td>...</td>\n",
       "      <td>...</td>\n",
       "      <td>...</td>\n",
       "    </tr>\n",
       "    <tr>\n",
       "      <th>16212796</th>\n",
       "      <td>168540</td>\n",
       "      <td>5266</td>\n",
       "      <td>3.5</td>\n",
       "      <td>1416612440</td>\n",
       "    </tr>\n",
       "    <tr>\n",
       "      <th>24917229</th>\n",
       "      <td>259065</td>\n",
       "      <td>1704</td>\n",
       "      <td>4.0</td>\n",
       "      <td>1164563093</td>\n",
       "    </tr>\n",
       "    <tr>\n",
       "      <th>22139524</th>\n",
       "      <td>229884</td>\n",
       "      <td>2353</td>\n",
       "      <td>4.0</td>\n",
       "      <td>963175959</td>\n",
       "    </tr>\n",
       "    <tr>\n",
       "      <th>11484916</th>\n",
       "      <td>119153</td>\n",
       "      <td>7361</td>\n",
       "      <td>5.0</td>\n",
       "      <td>1488438090</td>\n",
       "    </tr>\n",
       "    <tr>\n",
       "      <th>383280</th>\n",
       "      <td>4066</td>\n",
       "      <td>1096</td>\n",
       "      <td>3.0</td>\n",
       "      <td>859106685</td>\n",
       "    </tr>\n",
       "  </tbody>\n",
       "</table>\n",
       "<p>20819431 rows × 4 columns</p>\n",
       "</div>"
      ],
      "text/plain": [
       "          userId  movieId  rating   timestamp\n",
       "7159834    73875     1593     3.0   958210061\n",
       "12421332  128838      543     1.5  1144673944\n",
       "7493405    77327    45672     3.0  1463697584\n",
       "8662342    89263     6695     2.0  1229807065\n",
       "4405632    45521     3030     5.0  1258901884\n",
       "...          ...      ...     ...         ...\n",
       "16212796  168540     5266     3.5  1416612440\n",
       "24917229  259065     1704     4.0  1164563093\n",
       "22139524  229884     2353     4.0   963175959\n",
       "11484916  119153     7361     5.0  1488438090\n",
       "383280      4066     1096     3.0   859106685\n",
       "\n",
       "[20819431 rows x 4 columns]"
      ]
     },
     "execution_count": 12,
     "metadata": {},
     "output_type": "execute_result"
    }
   ],
   "source": [
    "train_X"
   ]
  },
  {
   "cell_type": "code",
   "execution_count": 13,
   "metadata": {},
   "outputs": [
    {
     "data": {
      "text/html": [
       "<div>\n",
       "<style scoped>\n",
       "    .dataframe tbody tr th:only-of-type {\n",
       "        vertical-align: middle;\n",
       "    }\n",
       "\n",
       "    .dataframe tbody tr th {\n",
       "        vertical-align: top;\n",
       "    }\n",
       "\n",
       "    .dataframe thead th {\n",
       "        text-align: right;\n",
       "    }\n",
       "</style>\n",
       "<table border=\"1\" class=\"dataframe\">\n",
       "  <thead>\n",
       "    <tr style=\"text-align: right;\">\n",
       "      <th></th>\n",
       "      <th>userId</th>\n",
       "      <th>movieId</th>\n",
       "      <th>rating</th>\n",
       "      <th>timestamp</th>\n",
       "    </tr>\n",
       "  </thead>\n",
       "  <tbody>\n",
       "    <tr>\n",
       "      <th>4298828</th>\n",
       "      <td>44587</td>\n",
       "      <td>1573</td>\n",
       "      <td>4.0</td>\n",
       "      <td>954483429</td>\n",
       "    </tr>\n",
       "    <tr>\n",
       "      <th>15578790</th>\n",
       "      <td>162180</td>\n",
       "      <td>858</td>\n",
       "      <td>5.0</td>\n",
       "      <td>1387157639</td>\n",
       "    </tr>\n",
       "    <tr>\n",
       "      <th>11019465</th>\n",
       "      <td>113962</td>\n",
       "      <td>6947</td>\n",
       "      <td>3.5</td>\n",
       "      <td>1311061147</td>\n",
       "    </tr>\n",
       "    <tr>\n",
       "      <th>6604331</th>\n",
       "      <td>68158</td>\n",
       "      <td>5991</td>\n",
       "      <td>3.0</td>\n",
       "      <td>1453916650</td>\n",
       "    </tr>\n",
       "    <tr>\n",
       "      <th>12713352</th>\n",
       "      <td>131973</td>\n",
       "      <td>4008</td>\n",
       "      <td>4.0</td>\n",
       "      <td>975743979</td>\n",
       "    </tr>\n",
       "    <tr>\n",
       "      <th>...</th>\n",
       "      <td>...</td>\n",
       "      <td>...</td>\n",
       "      <td>...</td>\n",
       "      <td>...</td>\n",
       "    </tr>\n",
       "    <tr>\n",
       "      <th>21042488</th>\n",
       "      <td>218687</td>\n",
       "      <td>3706</td>\n",
       "      <td>4.0</td>\n",
       "      <td>1214668465</td>\n",
       "    </tr>\n",
       "    <tr>\n",
       "      <th>1904835</th>\n",
       "      <td>19777</td>\n",
       "      <td>5266</td>\n",
       "      <td>3.0</td>\n",
       "      <td>1447940672</td>\n",
       "    </tr>\n",
       "    <tr>\n",
       "      <th>11075163</th>\n",
       "      <td>114579</td>\n",
       "      <td>454</td>\n",
       "      <td>3.0</td>\n",
       "      <td>846865616</td>\n",
       "    </tr>\n",
       "    <tr>\n",
       "      <th>18528426</th>\n",
       "      <td>192323</td>\n",
       "      <td>2289</td>\n",
       "      <td>1.5</td>\n",
       "      <td>1180568197</td>\n",
       "    </tr>\n",
       "    <tr>\n",
       "      <th>4470051</th>\n",
       "      <td>45961</td>\n",
       "      <td>1031</td>\n",
       "      <td>3.0</td>\n",
       "      <td>1018722558</td>\n",
       "    </tr>\n",
       "  </tbody>\n",
       "</table>\n",
       "<p>5204858 rows × 4 columns</p>\n",
       "</div>"
      ],
      "text/plain": [
       "          userId  movieId  rating   timestamp\n",
       "4298828    44587     1573     4.0   954483429\n",
       "15578790  162180      858     5.0  1387157639\n",
       "11019465  113962     6947     3.5  1311061147\n",
       "6604331    68158     5991     3.0  1453916650\n",
       "12713352  131973     4008     4.0   975743979\n",
       "...          ...      ...     ...         ...\n",
       "21042488  218687     3706     4.0  1214668465\n",
       "1904835    19777     5266     3.0  1447940672\n",
       "11075163  114579      454     3.0   846865616\n",
       "18528426  192323     2289     1.5  1180568197\n",
       "4470051    45961     1031     3.0  1018722558\n",
       "\n",
       "[5204858 rows x 4 columns]"
      ]
     },
     "execution_count": 13,
     "metadata": {},
     "output_type": "execute_result"
    }
   ],
   "source": [
    "test_X"
   ]
  },
  {
   "cell_type": "code",
   "execution_count": 16,
   "metadata": {},
   "outputs": [
    {
     "name": "stdout",
     "output_type": "stream",
     "text": [
      "45436\n",
      "270896\n"
     ]
    }
   ],
   "source": [
    "total_movies = movies.id.nunique()\n",
    "total_users = ratings.userId.nunique()\n",
    "print(total_movies)\n",
    "print(total_users)"
   ]
  },
  {
   "cell_type": "code",
   "execution_count": 18,
   "metadata": {},
   "outputs": [],
   "source": [
    "embedding_dimension = 32"
   ]
  },
  {
   "cell_type": "code",
   "execution_count": 21,
   "metadata": {},
   "outputs": [
    {
     "ename": "AttributeError",
     "evalue": "module 'tensorflow' has no attribute 'layer'",
     "output_type": "error",
     "traceback": [
      "\u001b[1;31m---------------------------------------------------------------------------\u001b[0m",
      "\u001b[1;31mAttributeError\u001b[0m                            Traceback (most recent call last)",
      "\u001b[1;32m<ipython-input-21-44407ca14321>\u001b[0m in \u001b[0;36m<module>\u001b[1;34m\u001b[0m\n\u001b[0;32m      1\u001b[0m \u001b[1;31m#Movies Network\u001b[0m\u001b[1;33m\u001b[0m\u001b[1;33m\u001b[0m\u001b[1;33m\u001b[0m\u001b[0m\n\u001b[1;32m----> 2\u001b[1;33m \u001b[0minput_movies\u001b[0m \u001b[1;33m=\u001b[0m \u001b[0mtf\u001b[0m\u001b[1;33m.\u001b[0m\u001b[0mlayer\u001b[0m\u001b[1;33m.\u001b[0m\u001b[0mInput\u001b[0m\u001b[1;33m(\u001b[0m\u001b[0mshape\u001b[0m\u001b[1;33m=\u001b[0m\u001b[1;33m[\u001b[0m\u001b[1;36m1\u001b[0m\u001b[1;33m]\u001b[0m\u001b[1;33m)\u001b[0m\u001b[1;33m\u001b[0m\u001b[1;33m\u001b[0m\u001b[0m\n\u001b[0m\u001b[0;32m      3\u001b[0m \u001b[0membed_movies\u001b[0m \u001b[1;33m=\u001b[0m \u001b[0mtf\u001b[0m\u001b[1;33m.\u001b[0m\u001b[0mlayers\u001b[0m\u001b[1;33m.\u001b[0m\u001b[0mEmbedding\u001b[0m\u001b[1;33m(\u001b[0m\u001b[0mtotal_movies\u001b[0m \u001b[1;33m+\u001b[0m \u001b[1;36m1\u001b[0m\u001b[1;33m,\u001b[0m \u001b[0membedding_dimension\u001b[0m\u001b[1;33m)\u001b[0m\u001b[1;33m(\u001b[0m\u001b[0minput_movies\u001b[0m\u001b[1;33m)\u001b[0m\u001b[1;33m\u001b[0m\u001b[1;33m\u001b[0m\u001b[0m\n\u001b[0;32m      4\u001b[0m \u001b[0mout_movies\u001b[0m \u001b[1;33m=\u001b[0m \u001b[0mtf\u001b[0m\u001b[1;33m.\u001b[0m\u001b[0mlayer\u001b[0m\u001b[1;33m.\u001b[0m\u001b[0mFlatten\u001b[0m\u001b[1;33m(\u001b[0m\u001b[1;33m)\u001b[0m\u001b[1;33m(\u001b[0m\u001b[0membed_movies\u001b[0m\u001b[1;33m)\u001b[0m\u001b[1;33m\u001b[0m\u001b[1;33m\u001b[0m\u001b[0m\n\u001b[0;32m      5\u001b[0m \u001b[1;31m#Users Network\u001b[0m\u001b[1;33m\u001b[0m\u001b[1;33m\u001b[0m\u001b[1;33m\u001b[0m\u001b[0m\n",
      "\u001b[1;31mAttributeError\u001b[0m: module 'tensorflow' has no attribute 'layer'"
     ]
    }
   ],
   "source": [
    "#Movies Network\n",
    "input_movies = tf.layer.Input(shape=[1])\n",
    "embed_movies = tf.layers.Embedding(total_movies + 1, embedding_dimension)(input_movies)\n",
    "out_movies = tf.layer.Flatten()(embed_movies)\n",
    "#Users Network\n",
    "input_users = tf.layers.Input(shape=[1])\n",
    "embed_users = tf.layers.Embedding(total_users + 1, embedding_dimension)(input_users)\n",
    "out_users = tf.layer.Flatten()(embed_users)\n",
    "\n",
    "conc_layer = tf.layers.Concatenat()([out_movies,out_users])\n",
    "x = tf.layers.Dense(128, activation='relu')(conc_layer)\n",
    "x_out = tf.layers.Dense(1, activation='relu')(x)\n",
    "\n",
    "model = tf.Model([input_movies,input_users], x_out)\n",
    "opt = tf.Optimizers.Adam(larning_rate=0.001)\n",
    "model.compile(optimizer=opt, loss='mean_squared_error')"
   ]
  },
  {
   "cell_type": "code",
   "execution_count": null,
   "metadata": {},
   "outputs": [],
   "source": [
    "model.summary()"
   ]
  }
 ],
 "metadata": {
  "kernelspec": {
   "display_name": "Python 3",
   "language": "python",
   "name": "python3"
  },
  "language_info": {
   "codemirror_mode": {
    "name": "ipython",
    "version": 3
   },
   "file_extension": ".py",
   "mimetype": "text/x-python",
   "name": "python",
   "nbconvert_exporter": "python",
   "pygments_lexer": "ipython3",
   "version": "3.7.3"
  }
 },
 "nbformat": 4,
 "nbformat_minor": 4
}
