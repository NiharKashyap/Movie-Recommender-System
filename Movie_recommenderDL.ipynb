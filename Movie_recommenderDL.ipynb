{
 "cells": [
  {
   "cell_type": "code",
   "execution_count": 1,
   "metadata": {},
   "outputs": [],
   "source": [
    "import pandas as pd\n",
    "import tensorflow as tf"
   ]
  },
  {
   "cell_type": "code",
   "execution_count": 57,
   "metadata": {},
   "outputs": [],
   "source": [
    "ratings = pd.read_csv('C://Projects//Movie Recommender System//Datasets//ratings_small.csv')"
   ]
  },
  {
   "cell_type": "code",
   "execution_count": 58,
   "metadata": {},
   "outputs": [
    {
     "name": "stdout",
     "output_type": "stream",
     "text": [
      "<class 'pandas.core.frame.DataFrame'>\n",
      "RangeIndex: 100004 entries, 0 to 100003\n",
      "Data columns (total 4 columns):\n",
      " #   Column     Non-Null Count   Dtype  \n",
      "---  ------     --------------   -----  \n",
      " 0   userId     100004 non-null  int64  \n",
      " 1   movieId    100004 non-null  int64  \n",
      " 2   rating     100004 non-null  float64\n",
      " 3   timestamp  100004 non-null  int64  \n",
      "dtypes: float64(1), int64(3)\n",
      "memory usage: 3.1 MB\n"
     ]
    }
   ],
   "source": [
    "ratings.info()"
   ]
  },
  {
   "cell_type": "code",
   "execution_count": 40,
   "metadata": {},
   "outputs": [],
   "source": [
    "ratings.dropna(inplace=True)"
   ]
  },
  {
   "cell_type": "code",
   "execution_count": 59,
   "metadata": {},
   "outputs": [
    {
     "data": {
      "text/plain": [
       "userId       0\n",
       "movieId      0\n",
       "rating       0\n",
       "timestamp    0\n",
       "dtype: int64"
      ]
     },
     "execution_count": 59,
     "metadata": {},
     "output_type": "execute_result"
    }
   ],
   "source": [
    "ratings.isna().sum()"
   ]
  },
  {
   "cell_type": "code",
   "execution_count": 60,
   "metadata": {},
   "outputs": [
    {
     "data": {
      "text/html": [
       "<div>\n",
       "<style scoped>\n",
       "    .dataframe tbody tr th:only-of-type {\n",
       "        vertical-align: middle;\n",
       "    }\n",
       "\n",
       "    .dataframe tbody tr th {\n",
       "        vertical-align: top;\n",
       "    }\n",
       "\n",
       "    .dataframe thead th {\n",
       "        text-align: right;\n",
       "    }\n",
       "</style>\n",
       "<table border=\"1\" class=\"dataframe\">\n",
       "  <thead>\n",
       "    <tr style=\"text-align: right;\">\n",
       "      <th></th>\n",
       "      <th>userId</th>\n",
       "      <th>movieId</th>\n",
       "      <th>rating</th>\n",
       "      <th>timestamp</th>\n",
       "    </tr>\n",
       "  </thead>\n",
       "  <tbody>\n",
       "    <tr>\n",
       "      <th>0</th>\n",
       "      <td>1</td>\n",
       "      <td>31</td>\n",
       "      <td>2.5</td>\n",
       "      <td>1260759144</td>\n",
       "    </tr>\n",
       "    <tr>\n",
       "      <th>1</th>\n",
       "      <td>1</td>\n",
       "      <td>1029</td>\n",
       "      <td>3.0</td>\n",
       "      <td>1260759179</td>\n",
       "    </tr>\n",
       "    <tr>\n",
       "      <th>2</th>\n",
       "      <td>1</td>\n",
       "      <td>1061</td>\n",
       "      <td>3.0</td>\n",
       "      <td>1260759182</td>\n",
       "    </tr>\n",
       "    <tr>\n",
       "      <th>3</th>\n",
       "      <td>1</td>\n",
       "      <td>1129</td>\n",
       "      <td>2.0</td>\n",
       "      <td>1260759185</td>\n",
       "    </tr>\n",
       "    <tr>\n",
       "      <th>4</th>\n",
       "      <td>1</td>\n",
       "      <td>1172</td>\n",
       "      <td>4.0</td>\n",
       "      <td>1260759205</td>\n",
       "    </tr>\n",
       "    <tr>\n",
       "      <th>...</th>\n",
       "      <td>...</td>\n",
       "      <td>...</td>\n",
       "      <td>...</td>\n",
       "      <td>...</td>\n",
       "    </tr>\n",
       "    <tr>\n",
       "      <th>99999</th>\n",
       "      <td>671</td>\n",
       "      <td>6268</td>\n",
       "      <td>2.5</td>\n",
       "      <td>1065579370</td>\n",
       "    </tr>\n",
       "    <tr>\n",
       "      <th>100000</th>\n",
       "      <td>671</td>\n",
       "      <td>6269</td>\n",
       "      <td>4.0</td>\n",
       "      <td>1065149201</td>\n",
       "    </tr>\n",
       "    <tr>\n",
       "      <th>100001</th>\n",
       "      <td>671</td>\n",
       "      <td>6365</td>\n",
       "      <td>4.0</td>\n",
       "      <td>1070940363</td>\n",
       "    </tr>\n",
       "    <tr>\n",
       "      <th>100002</th>\n",
       "      <td>671</td>\n",
       "      <td>6385</td>\n",
       "      <td>2.5</td>\n",
       "      <td>1070979663</td>\n",
       "    </tr>\n",
       "    <tr>\n",
       "      <th>100003</th>\n",
       "      <td>671</td>\n",
       "      <td>6565</td>\n",
       "      <td>3.5</td>\n",
       "      <td>1074784724</td>\n",
       "    </tr>\n",
       "  </tbody>\n",
       "</table>\n",
       "<p>100004 rows × 4 columns</p>\n",
       "</div>"
      ],
      "text/plain": [
       "        userId  movieId  rating   timestamp\n",
       "0            1       31     2.5  1260759144\n",
       "1            1     1029     3.0  1260759179\n",
       "2            1     1061     3.0  1260759182\n",
       "3            1     1129     2.0  1260759185\n",
       "4            1     1172     4.0  1260759205\n",
       "...        ...      ...     ...         ...\n",
       "99999      671     6268     2.5  1065579370\n",
       "100000     671     6269     4.0  1065149201\n",
       "100001     671     6365     4.0  1070940363\n",
       "100002     671     6385     2.5  1070979663\n",
       "100003     671     6565     3.5  1074784724\n",
       "\n",
       "[100004 rows x 4 columns]"
      ]
     },
     "execution_count": 60,
     "metadata": {},
     "output_type": "execute_result"
    }
   ],
   "source": [
    "ratings"
   ]
  },
  {
   "cell_type": "code",
   "execution_count": 61,
   "metadata": {},
   "outputs": [],
   "source": [
    "from sklearn.model_selection import train_test_split"
   ]
  },
  {
   "cell_type": "code",
   "execution_count": 62,
   "metadata": {},
   "outputs": [],
   "source": [
    "train_X,test_X = train_test_split(ratings, test_size=0.2)"
   ]
  },
  {
   "cell_type": "code",
   "execution_count": 63,
   "metadata": {},
   "outputs": [
    {
     "data": {
      "text/html": [
       "<div>\n",
       "<style scoped>\n",
       "    .dataframe tbody tr th:only-of-type {\n",
       "        vertical-align: middle;\n",
       "    }\n",
       "\n",
       "    .dataframe tbody tr th {\n",
       "        vertical-align: top;\n",
       "    }\n",
       "\n",
       "    .dataframe thead th {\n",
       "        text-align: right;\n",
       "    }\n",
       "</style>\n",
       "<table border=\"1\" class=\"dataframe\">\n",
       "  <thead>\n",
       "    <tr style=\"text-align: right;\">\n",
       "      <th></th>\n",
       "      <th>userId</th>\n",
       "      <th>movieId</th>\n",
       "      <th>rating</th>\n",
       "      <th>timestamp</th>\n",
       "    </tr>\n",
       "  </thead>\n",
       "  <tbody>\n",
       "    <tr>\n",
       "      <th>53890</th>\n",
       "      <td>388</td>\n",
       "      <td>1293</td>\n",
       "      <td>4.5</td>\n",
       "      <td>1097626045</td>\n",
       "    </tr>\n",
       "    <tr>\n",
       "      <th>20715</th>\n",
       "      <td>141</td>\n",
       "      <td>648</td>\n",
       "      <td>3.0</td>\n",
       "      <td>979428119</td>\n",
       "    </tr>\n",
       "    <tr>\n",
       "      <th>37186</th>\n",
       "      <td>268</td>\n",
       "      <td>1206</td>\n",
       "      <td>3.0</td>\n",
       "      <td>1314894691</td>\n",
       "    </tr>\n",
       "    <tr>\n",
       "      <th>43370</th>\n",
       "      <td>311</td>\n",
       "      <td>153</td>\n",
       "      <td>3.0</td>\n",
       "      <td>898008136</td>\n",
       "    </tr>\n",
       "    <tr>\n",
       "      <th>30605</th>\n",
       "      <td>217</td>\n",
       "      <td>4306</td>\n",
       "      <td>5.0</td>\n",
       "      <td>1108160015</td>\n",
       "    </tr>\n",
       "    <tr>\n",
       "      <th>...</th>\n",
       "      <td>...</td>\n",
       "      <td>...</td>\n",
       "      <td>...</td>\n",
       "      <td>...</td>\n",
       "    </tr>\n",
       "    <tr>\n",
       "      <th>98078</th>\n",
       "      <td>655</td>\n",
       "      <td>32</td>\n",
       "      <td>4.0</td>\n",
       "      <td>1470074140</td>\n",
       "    </tr>\n",
       "    <tr>\n",
       "      <th>37222</th>\n",
       "      <td>268</td>\n",
       "      <td>1407</td>\n",
       "      <td>5.0</td>\n",
       "      <td>1314895088</td>\n",
       "    </tr>\n",
       "    <tr>\n",
       "      <th>95062</th>\n",
       "      <td>624</td>\n",
       "      <td>107945</td>\n",
       "      <td>2.0</td>\n",
       "      <td>1442162036</td>\n",
       "    </tr>\n",
       "    <tr>\n",
       "      <th>65769</th>\n",
       "      <td>468</td>\n",
       "      <td>597</td>\n",
       "      <td>2.5</td>\n",
       "      <td>1296195620</td>\n",
       "    </tr>\n",
       "    <tr>\n",
       "      <th>71859</th>\n",
       "      <td>505</td>\n",
       "      <td>1084</td>\n",
       "      <td>3.5</td>\n",
       "      <td>1340405996</td>\n",
       "    </tr>\n",
       "  </tbody>\n",
       "</table>\n",
       "<p>80003 rows × 4 columns</p>\n",
       "</div>"
      ],
      "text/plain": [
       "       userId  movieId  rating   timestamp\n",
       "53890     388     1293     4.5  1097626045\n",
       "20715     141      648     3.0   979428119\n",
       "37186     268     1206     3.0  1314894691\n",
       "43370     311      153     3.0   898008136\n",
       "30605     217     4306     5.0  1108160015\n",
       "...       ...      ...     ...         ...\n",
       "98078     655       32     4.0  1470074140\n",
       "37222     268     1407     5.0  1314895088\n",
       "95062     624   107945     2.0  1442162036\n",
       "65769     468      597     2.5  1296195620\n",
       "71859     505     1084     3.5  1340405996\n",
       "\n",
       "[80003 rows x 4 columns]"
      ]
     },
     "execution_count": 63,
     "metadata": {},
     "output_type": "execute_result"
    }
   ],
   "source": [
    "train_X"
   ]
  },
  {
   "cell_type": "code",
   "execution_count": 64,
   "metadata": {},
   "outputs": [
    {
     "data": {
      "text/html": [
       "<div>\n",
       "<style scoped>\n",
       "    .dataframe tbody tr th:only-of-type {\n",
       "        vertical-align: middle;\n",
       "    }\n",
       "\n",
       "    .dataframe tbody tr th {\n",
       "        vertical-align: top;\n",
       "    }\n",
       "\n",
       "    .dataframe thead th {\n",
       "        text-align: right;\n",
       "    }\n",
       "</style>\n",
       "<table border=\"1\" class=\"dataframe\">\n",
       "  <thead>\n",
       "    <tr style=\"text-align: right;\">\n",
       "      <th></th>\n",
       "      <th>userId</th>\n",
       "      <th>movieId</th>\n",
       "      <th>rating</th>\n",
       "      <th>timestamp</th>\n",
       "    </tr>\n",
       "  </thead>\n",
       "  <tbody>\n",
       "    <tr>\n",
       "      <th>88458</th>\n",
       "      <td>587</td>\n",
       "      <td>3949</td>\n",
       "      <td>4.5</td>\n",
       "      <td>1131819438</td>\n",
       "    </tr>\n",
       "    <tr>\n",
       "      <th>73015</th>\n",
       "      <td>509</td>\n",
       "      <td>4066</td>\n",
       "      <td>3.0</td>\n",
       "      <td>1095897504</td>\n",
       "    </tr>\n",
       "    <tr>\n",
       "      <th>51027</th>\n",
       "      <td>378</td>\n",
       "      <td>58559</td>\n",
       "      <td>0.5</td>\n",
       "      <td>1443625495</td>\n",
       "    </tr>\n",
       "    <tr>\n",
       "      <th>45185</th>\n",
       "      <td>318</td>\n",
       "      <td>1</td>\n",
       "      <td>1.0</td>\n",
       "      <td>862902604</td>\n",
       "    </tr>\n",
       "    <tr>\n",
       "      <th>45360</th>\n",
       "      <td>321</td>\n",
       "      <td>1464</td>\n",
       "      <td>5.0</td>\n",
       "      <td>939399601</td>\n",
       "    </tr>\n",
       "    <tr>\n",
       "      <th>...</th>\n",
       "      <td>...</td>\n",
       "      <td>...</td>\n",
       "      <td>...</td>\n",
       "      <td>...</td>\n",
       "    </tr>\n",
       "    <tr>\n",
       "      <th>85546</th>\n",
       "      <td>574</td>\n",
       "      <td>56921</td>\n",
       "      <td>3.5</td>\n",
       "      <td>1232809970</td>\n",
       "    </tr>\n",
       "    <tr>\n",
       "      <th>87790</th>\n",
       "      <td>584</td>\n",
       "      <td>69122</td>\n",
       "      <td>4.5</td>\n",
       "      <td>1271763924</td>\n",
       "    </tr>\n",
       "    <tr>\n",
       "      <th>65062</th>\n",
       "      <td>463</td>\n",
       "      <td>2355</td>\n",
       "      <td>4.0</td>\n",
       "      <td>1049913431</td>\n",
       "    </tr>\n",
       "    <tr>\n",
       "      <th>16554</th>\n",
       "      <td>105</td>\n",
       "      <td>3584</td>\n",
       "      <td>3.5</td>\n",
       "      <td>1086094545</td>\n",
       "    </tr>\n",
       "    <tr>\n",
       "      <th>22016</th>\n",
       "      <td>152</td>\n",
       "      <td>3996</td>\n",
       "      <td>4.0</td>\n",
       "      <td>1335948374</td>\n",
       "    </tr>\n",
       "  </tbody>\n",
       "</table>\n",
       "<p>20001 rows × 4 columns</p>\n",
       "</div>"
      ],
      "text/plain": [
       "       userId  movieId  rating   timestamp\n",
       "88458     587     3949     4.5  1131819438\n",
       "73015     509     4066     3.0  1095897504\n",
       "51027     378    58559     0.5  1443625495\n",
       "45185     318        1     1.0   862902604\n",
       "45360     321     1464     5.0   939399601\n",
       "...       ...      ...     ...         ...\n",
       "85546     574    56921     3.5  1232809970\n",
       "87790     584    69122     4.5  1271763924\n",
       "65062     463     2355     4.0  1049913431\n",
       "16554     105     3584     3.5  1086094545\n",
       "22016     152     3996     4.0  1335948374\n",
       "\n",
       "[20001 rows x 4 columns]"
      ]
     },
     "execution_count": 64,
     "metadata": {},
     "output_type": "execute_result"
    }
   ],
   "source": [
    "test_X"
   ]
  },
  {
   "cell_type": "code",
   "execution_count": 84,
   "metadata": {},
   "outputs": [
    {
     "name": "stdout",
     "output_type": "stream",
     "text": [
      "671\n",
      "163949\n"
     ]
    }
   ],
   "source": [
    "max_userid = ratings['userId'].drop_duplicates().max()\n",
    "max_movieid = ratings['movieId'].drop_duplicates().max()\n",
    "\n",
    "print(max_userid)\n",
    "print(max_movieid)"
   ]
  },
  {
   "cell_type": "code",
   "execution_count": 66,
   "metadata": {},
   "outputs": [],
   "source": [
    "embedding_dimension = 32"
   ]
  },
  {
   "cell_type": "code",
   "execution_count": 86,
   "metadata": {},
   "outputs": [],
   "source": [
    "#Movies Network\n",
    "input_movies = tf.keras.layers.Input(shape=[1])\n",
    "embed_movies = tf.keras.layers.Embedding(max_movieid + 1, embedding_dimension)(input_movies)\n",
    "out_movies = tf.keras.layers.Flatten()(embed_movies)\n",
    "#Users Network\n",
    "input_users = tf.keras.layers.Input(shape=[1])\n",
    "embed_users = tf.keras.layers.Embedding(max_userid + 1, embedding_dimension)(input_users)\n",
    "out_users = tf.keras.layers.Flatten()(embed_users)\n",
    "\n",
    "conc_layer = tf.keras.layers.Concatenate()([out_movies,out_users])\n",
    "x = tf.keras.layers.Dense(128, activation='relu')(conc_layer)\n",
    "x_out = tf.keras.layers.Dense(1, activation='relu')(x)\n",
    "\n",
    "model = tf.keras.Model([input_movies,input_users], x_out)\n",
    "opt = tf.keras.optimizers.Adam(learning_rate=0.001)\n",
    "model.compile(optimizer=opt, loss='mean_squared_error')"
   ]
  },
  {
   "cell_type": "code",
   "execution_count": 87,
   "metadata": {},
   "outputs": [
    {
     "name": "stdout",
     "output_type": "stream",
     "text": [
      "Model: \"model_9\"\n",
      "__________________________________________________________________________________________________\n",
      "Layer (type)                    Output Shape         Param #     Connected to                     \n",
      "==================================================================================================\n",
      "input_19 (InputLayer)           [(None, 1)]          0                                            \n",
      "__________________________________________________________________________________________________\n",
      "input_20 (InputLayer)           [(None, 1)]          0                                            \n",
      "__________________________________________________________________________________________________\n",
      "embedding_18 (Embedding)        (None, 1, 32)        5246400     input_19[0][0]                   \n",
      "__________________________________________________________________________________________________\n",
      "embedding_19 (Embedding)        (None, 1, 32)        21504       input_20[0][0]                   \n",
      "__________________________________________________________________________________________________\n",
      "flatten_18 (Flatten)            (None, 32)           0           embedding_18[0][0]               \n",
      "__________________________________________________________________________________________________\n",
      "flatten_19 (Flatten)            (None, 32)           0           embedding_19[0][0]               \n",
      "__________________________________________________________________________________________________\n",
      "concatenate_9 (Concatenate)     (None, 64)           0           flatten_18[0][0]                 \n",
      "                                                                 flatten_19[0][0]                 \n",
      "__________________________________________________________________________________________________\n",
      "dense_18 (Dense)                (None, 128)          8320        concatenate_9[0][0]              \n",
      "__________________________________________________________________________________________________\n",
      "dense_19 (Dense)                (None, 1)            129         dense_18[0][0]                   \n",
      "==================================================================================================\n",
      "Total params: 5,276,353\n",
      "Trainable params: 5,276,353\n",
      "Non-trainable params: 0\n",
      "__________________________________________________________________________________________________\n"
     ]
    }
   ],
   "source": [
    "model.summary()"
   ]
  },
  {
   "cell_type": "code",
   "execution_count": 89,
   "metadata": {},
   "outputs": [
    {
     "name": "stdout",
     "output_type": "stream",
     "text": [
      "Epoch 1/5\n",
      "1251/1251 [==============================] - 91s 73ms/step - loss: 0.7544 - val_loss: 0.8009\n",
      "Epoch 2/5\n",
      "1251/1251 [==============================] - 87s 70ms/step - loss: 0.7058 - val_loss: 0.7924\n",
      "Epoch 3/5\n",
      "1251/1251 [==============================] - 87s 69ms/step - loss: 0.6776 - val_loss: 0.7930\n",
      "Epoch 4/5\n",
      "1251/1251 [==============================] - 87s 69ms/step - loss: 0.6535 - val_loss: 0.8024\n",
      "Epoch 5/5\n",
      "1251/1251 [==============================] - 86s 69ms/step - loss: 0.6256 - val_loss: 0.8023\n"
     ]
    }
   ],
   "source": [
    "hist = model.fit([train_X.movieId,train_X.userId], train_X.rating,\n",
    "                 batch_size=64,epochs=5,\n",
    "                 verbose=1,\n",
    "                 validation_data= ([test_X.movieId,test_X.userId], test_X.rating))"
   ]
  },
  {
   "cell_type": "code",
   "execution_count": null,
   "metadata": {},
   "outputs": [],
   "source": []
  },
  {
   "cell_type": "code",
   "execution_count": null,
   "metadata": {},
   "outputs": [],
   "source": []
  }
 ],
 "metadata": {
  "kernelspec": {
   "display_name": "Python 3",
   "language": "python",
   "name": "python3"
  },
  "language_info": {
   "codemirror_mode": {
    "name": "ipython",
    "version": 3
   },
   "file_extension": ".py",
   "mimetype": "text/x-python",
   "name": "python",
   "nbconvert_exporter": "python",
   "pygments_lexer": "ipython3",
   "version": "3.7.3"
  }
 },
 "nbformat": 4,
 "nbformat_minor": 4
}
