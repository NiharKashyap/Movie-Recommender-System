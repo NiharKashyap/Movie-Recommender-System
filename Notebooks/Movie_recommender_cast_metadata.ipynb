{
 "cells": [
  {
   "cell_type": "code",
   "execution_count": 2,
   "metadata": {},
   "outputs": [],
   "source": [
    "import pandas as pd\n",
    "import numpy as np"
   ]
  },
  {
   "cell_type": "code",
   "execution_count": 8,
   "metadata": {},
   "outputs": [],
   "source": [
    "data = pd.read_csv('C:/Code/Projects/Movie Recommender System/Datasets/main_data.csv')"
   ]
  },
  {
   "cell_type": "code",
   "execution_count": 9,
   "metadata": {},
   "outputs": [
    {
     "data": {
      "text/html": [
       "<div>\n",
       "<style scoped>\n",
       "    .dataframe tbody tr th:only-of-type {\n",
       "        vertical-align: middle;\n",
       "    }\n",
       "\n",
       "    .dataframe tbody tr th {\n",
       "        vertical-align: top;\n",
       "    }\n",
       "\n",
       "    .dataframe thead th {\n",
       "        text-align: right;\n",
       "    }\n",
       "</style>\n",
       "<table border=\"1\" class=\"dataframe\">\n",
       "  <thead>\n",
       "    <tr style=\"text-align: right;\">\n",
       "      <th></th>\n",
       "      <th>director_name</th>\n",
       "      <th>actor_1_name</th>\n",
       "      <th>actor_2_name</th>\n",
       "      <th>actor_3_name</th>\n",
       "      <th>genres</th>\n",
       "      <th>movie_title</th>\n",
       "      <th>comb</th>\n",
       "    </tr>\n",
       "  </thead>\n",
       "  <tbody>\n",
       "    <tr>\n",
       "      <th>0</th>\n",
       "      <td>James Cameron</td>\n",
       "      <td>CCH Pounder</td>\n",
       "      <td>Joel David Moore</td>\n",
       "      <td>Wes Studi</td>\n",
       "      <td>Action Adventure Fantasy Sci-Fi</td>\n",
       "      <td>avatar</td>\n",
       "      <td>CCH Pounder Joel David Moore Wes Studi James C...</td>\n",
       "    </tr>\n",
       "    <tr>\n",
       "      <th>1</th>\n",
       "      <td>Gore Verbinski</td>\n",
       "      <td>Johnny Depp</td>\n",
       "      <td>Orlando Bloom</td>\n",
       "      <td>Jack Davenport</td>\n",
       "      <td>Action Adventure Fantasy</td>\n",
       "      <td>pirates of the caribbean: at world's end</td>\n",
       "      <td>Johnny Depp Orlando Bloom Jack Davenport Gore ...</td>\n",
       "    </tr>\n",
       "    <tr>\n",
       "      <th>2</th>\n",
       "      <td>Sam Mendes</td>\n",
       "      <td>Christoph Waltz</td>\n",
       "      <td>Rory Kinnear</td>\n",
       "      <td>Stephanie Sigman</td>\n",
       "      <td>Action Adventure Thriller</td>\n",
       "      <td>spectre</td>\n",
       "      <td>Christoph Waltz Rory Kinnear Stephanie Sigman ...</td>\n",
       "    </tr>\n",
       "    <tr>\n",
       "      <th>3</th>\n",
       "      <td>Christopher Nolan</td>\n",
       "      <td>Tom Hardy</td>\n",
       "      <td>Christian Bale</td>\n",
       "      <td>Joseph Gordon-Levitt</td>\n",
       "      <td>Action Thriller</td>\n",
       "      <td>the dark knight rises</td>\n",
       "      <td>Tom Hardy Christian Bale Joseph Gordon-Levitt ...</td>\n",
       "    </tr>\n",
       "    <tr>\n",
       "      <th>4</th>\n",
       "      <td>Doug Walker</td>\n",
       "      <td>Doug Walker</td>\n",
       "      <td>Rob Walker</td>\n",
       "      <td>unknown</td>\n",
       "      <td>Documentary</td>\n",
       "      <td>star wars: episode vii - the force awakens    ...</td>\n",
       "      <td>Doug Walker Rob Walker unknown Doug Walker Doc...</td>\n",
       "    </tr>\n",
       "    <tr>\n",
       "      <th>...</th>\n",
       "      <td>...</td>\n",
       "      <td>...</td>\n",
       "      <td>...</td>\n",
       "      <td>...</td>\n",
       "      <td>...</td>\n",
       "      <td>...</td>\n",
       "      <td>...</td>\n",
       "    </tr>\n",
       "    <tr>\n",
       "      <th>6005</th>\n",
       "      <td>Joseph Kosinski</td>\n",
       "      <td>Tom Cruise</td>\n",
       "      <td>Miles Teller</td>\n",
       "      <td>Jennifer Connelly</td>\n",
       "      <td>Action Drama</td>\n",
       "      <td>top gun: maverick</td>\n",
       "      <td>Tom Cruise Miles Teller Jennifer Connelly Jose...</td>\n",
       "    </tr>\n",
       "    <tr>\n",
       "      <th>6006</th>\n",
       "      <td>Joel Crawford</td>\n",
       "      <td>Nicolas Cage</td>\n",
       "      <td>Emma Stone</td>\n",
       "      <td>Ryan Reynolds</td>\n",
       "      <td>Animation Adventure Family</td>\n",
       "      <td>the croods 2</td>\n",
       "      <td>Nicolas Cage Emma Stone Ryan Reynolds Joel Cra...</td>\n",
       "    </tr>\n",
       "    <tr>\n",
       "      <th>6007</th>\n",
       "      <td>Liesl Tommy</td>\n",
       "      <td>Jennifer Hudson</td>\n",
       "      <td>Forest Whitaker</td>\n",
       "      <td>Marlon Wayans</td>\n",
       "      <td>Music Drama</td>\n",
       "      <td>respect</td>\n",
       "      <td>Jennifer Hudson Forest Whitaker Marlon Wayans ...</td>\n",
       "    </tr>\n",
       "    <tr>\n",
       "      <th>6008</th>\n",
       "      <td>Ridley Scott</td>\n",
       "      <td>Matt Damon</td>\n",
       "      <td>Adam Driver</td>\n",
       "      <td>Jodie Comer</td>\n",
       "      <td>Drama</td>\n",
       "      <td>the last duel</td>\n",
       "      <td>Matt Damon Adam Driver Jodie Comer Ridley Scot...</td>\n",
       "    </tr>\n",
       "    <tr>\n",
       "      <th>6009</th>\n",
       "      <td>Paul Greengrass</td>\n",
       "      <td>Tom Hanks</td>\n",
       "      <td>Helena Zengel</td>\n",
       "      <td>Neil Sandilands</td>\n",
       "      <td>Drama Western</td>\n",
       "      <td>news of the world</td>\n",
       "      <td>Tom Hanks Helena Zengel Neil Sandilands Paul G...</td>\n",
       "    </tr>\n",
       "  </tbody>\n",
       "</table>\n",
       "<p>6010 rows × 7 columns</p>\n",
       "</div>"
      ],
      "text/plain": [
       "          director_name     actor_1_name      actor_2_name  \\\n",
       "0         James Cameron      CCH Pounder  Joel David Moore   \n",
       "1        Gore Verbinski      Johnny Depp     Orlando Bloom   \n",
       "2            Sam Mendes  Christoph Waltz      Rory Kinnear   \n",
       "3     Christopher Nolan        Tom Hardy    Christian Bale   \n",
       "4           Doug Walker      Doug Walker        Rob Walker   \n",
       "...                 ...              ...               ...   \n",
       "6005    Joseph Kosinski       Tom Cruise      Miles Teller   \n",
       "6006      Joel Crawford     Nicolas Cage        Emma Stone   \n",
       "6007        Liesl Tommy  Jennifer Hudson   Forest Whitaker   \n",
       "6008       Ridley Scott       Matt Damon       Adam Driver   \n",
       "6009    Paul Greengrass        Tom Hanks     Helena Zengel   \n",
       "\n",
       "              actor_3_name                           genres  \\\n",
       "0                Wes Studi  Action Adventure Fantasy Sci-Fi   \n",
       "1           Jack Davenport         Action Adventure Fantasy   \n",
       "2         Stephanie Sigman        Action Adventure Thriller   \n",
       "3     Joseph Gordon-Levitt                  Action Thriller   \n",
       "4                  unknown                      Documentary   \n",
       "...                    ...                              ...   \n",
       "6005     Jennifer Connelly                     Action Drama   \n",
       "6006         Ryan Reynolds       Animation Adventure Family   \n",
       "6007         Marlon Wayans                      Music Drama   \n",
       "6008           Jodie Comer                            Drama   \n",
       "6009       Neil Sandilands                    Drama Western   \n",
       "\n",
       "                                            movie_title  \\\n",
       "0                                                avatar   \n",
       "1              pirates of the caribbean: at world's end   \n",
       "2                                               spectre   \n",
       "3                                 the dark knight rises   \n",
       "4     star wars: episode vii - the force awakens    ...   \n",
       "...                                                 ...   \n",
       "6005                                  top gun: maverick   \n",
       "6006                                       the croods 2   \n",
       "6007                                            respect   \n",
       "6008                                      the last duel   \n",
       "6009                                  news of the world   \n",
       "\n",
       "                                                   comb  \n",
       "0     CCH Pounder Joel David Moore Wes Studi James C...  \n",
       "1     Johnny Depp Orlando Bloom Jack Davenport Gore ...  \n",
       "2     Christoph Waltz Rory Kinnear Stephanie Sigman ...  \n",
       "3     Tom Hardy Christian Bale Joseph Gordon-Levitt ...  \n",
       "4     Doug Walker Rob Walker unknown Doug Walker Doc...  \n",
       "...                                                 ...  \n",
       "6005  Tom Cruise Miles Teller Jennifer Connelly Jose...  \n",
       "6006  Nicolas Cage Emma Stone Ryan Reynolds Joel Cra...  \n",
       "6007  Jennifer Hudson Forest Whitaker Marlon Wayans ...  \n",
       "6008  Matt Damon Adam Driver Jodie Comer Ridley Scot...  \n",
       "6009  Tom Hanks Helena Zengel Neil Sandilands Paul G...  \n",
       "\n",
       "[6010 rows x 7 columns]"
      ]
     },
     "execution_count": 9,
     "metadata": {},
     "output_type": "execute_result"
    }
   ],
   "source": [
    "data"
   ]
  },
  {
   "cell_type": "code",
   "execution_count": 10,
   "metadata": {},
   "outputs": [],
   "source": [
    "from sklearn.feature_extraction.text import CountVectorizer\n",
    "from sklearn.feature_extraction.text import TfidfVectorizer\n",
    "from sklearn.metrics.pairwise import cosine_similarity"
   ]
  },
  {
   "cell_type": "code",
   "execution_count": 12,
   "metadata": {},
   "outputs": [],
   "source": [
    "cv = CountVectorizer()\n",
    "count_matrix = cv.fit_transform(data['comb'])"
   ]
  },
  {
   "cell_type": "code",
   "execution_count": 13,
   "metadata": {},
   "outputs": [],
   "source": [
    "similarity = cosine_similarity(count_matrix)"
   ]
  },
  {
   "cell_type": "code",
   "execution_count": 14,
   "metadata": {},
   "outputs": [
    {
     "data": {
      "text/plain": [
       "array([[1.        , 0.24174689, 0.16116459, ..., 0.        , 0.        ,\n",
       "        0.        ],\n",
       "       [0.24174689, 1.        , 0.18181818, ..., 0.        , 0.        ,\n",
       "        0.        ],\n",
       "       [0.16116459, 0.18181818, 1.        , ..., 0.        , 0.        ,\n",
       "        0.        ],\n",
       "       ...,\n",
       "       [0.        , 0.        , 0.        , ..., 1.        , 0.10540926,\n",
       "        0.1       ],\n",
       "       [0.        , 0.        , 0.        , ..., 0.10540926, 1.        ,\n",
       "        0.10540926],\n",
       "       [0.        , 0.        , 0.        , ..., 0.1       , 0.10540926,\n",
       "        1.        ]])"
      ]
     },
     "execution_count": 14,
     "metadata": {},
     "output_type": "execute_result"
    }
   ],
   "source": [
    "similarity"
   ]
  },
  {
   "cell_type": "code",
   "execution_count": 23,
   "metadata": {},
   "outputs": [],
   "source": [
    "def get_title_from_index(index):\n",
    "    return data[data.index==index]['movie_title'].values[0]\n",
    "def get_index_from_title(title):\n",
    "    return data[data.movie_title==title].index[0]"
   ]
  },
  {
   "cell_type": "code",
   "execution_count": 30,
   "metadata": {},
   "outputs": [],
   "source": [
    "movie_user_likes = \"the dark knight rises\""
   ]
  },
  {
   "cell_type": "code",
   "execution_count": 31,
   "metadata": {},
   "outputs": [
    {
     "name": "stdout",
     "output_type": "stream",
     "text": [
      "Top 5 similar movies to the dark knight rises are:\n",
      "\n",
      "inception\n",
      "the dark knight\n",
      "batman begins\n",
      "sin city: a dame to kill for\n",
      "premium rush\n",
      "the prestige\n",
      "rocknrolla\n",
      "don jon\n",
      "g.i. joe: the rise of cobra\n",
      "miracle at st. anna\n",
      "dunkirk\n"
     ]
    }
   ],
   "source": [
    "movie_index = get_index_from_title(movie_user_likes)\n",
    "similar_movies = list(enumerate(similarity[movie_index]))\n",
    "sorted_similar_movies = sorted(similar_movies, key = lambda x:x[1], reverse = True)[1:]\n",
    "i=0\n",
    "print(\"Top 5 similar movies to \"+movie_user_likes+\" are:\\n\")\n",
    "for element in sorted_similar_movies:\n",
    "    print(get_title_from_index(element[0]))\n",
    "    i=i+1\n",
    "    if i>10:\n",
    "        break"
   ]
  },
  {
   "cell_type": "code",
   "execution_count": 33,
   "metadata": {},
   "outputs": [],
   "source": [
    "np.save(\"Sim\", similarity)"
   ]
  },
  {
   "cell_type": "code",
   "execution_count": null,
   "metadata": {},
   "outputs": [],
   "source": []
  }
 ],
 "metadata": {
  "kernelspec": {
   "display_name": "Python 3",
   "language": "python",
   "name": "python3"
  },
  "language_info": {
   "codemirror_mode": {
    "name": "ipython",
    "version": 3
   },
   "file_extension": ".py",
   "mimetype": "text/x-python",
   "name": "python",
   "nbconvert_exporter": "python",
   "pygments_lexer": "ipython3",
   "version": "3.7.3"
  }
 },
 "nbformat": 4,
 "nbformat_minor": 4
}
